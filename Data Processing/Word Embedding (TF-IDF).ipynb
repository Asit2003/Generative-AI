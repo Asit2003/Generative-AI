{
 "cells": [
  {
   "cell_type": "markdown",
   "id": "0dccd104-3cbe-4048-bbf3-5cf8aa71811a",
   "metadata": {},
   "source": [
    "# TF-IDF (Term frequency- Inverse document frequency)"
   ]
  },
  {
   "cell_type": "code",
   "execution_count": 4,
   "id": "89813421-a285-4c1e-940e-ac4c722ae5f5",
   "metadata": {},
   "outputs": [],
   "source": [
    "import pandas as pd\n",
    "import numpy as np"
   ]
  },
  {
   "cell_type": "code",
   "execution_count": 6,
   "id": "af7123e7-1f4f-4122-8c37-4ba00369e211",
   "metadata": {},
   "outputs": [],
   "source": [
    "df = pd.DataFrame({\"text\":[\"people watch Youtube\",\n",
    "                         \"Asit watch youtube\",\n",
    "                         \"people write comment\",\n",
    "                          \"Asit write comment\"],\"output\":[1,1,0,0]})"
   ]
  },
  {
   "cell_type": "code",
   "execution_count": 8,
   "id": "72291c6e-cdb1-43ef-bb6d-ce41bd3b927c",
   "metadata": {},
   "outputs": [],
   "source": [
    "from sklearn.feature_extraction.text import TfidfVectorizer\n",
    "tfid= TfidfVectorizer()"
   ]
  },
  {
   "cell_type": "code",
   "execution_count": 12,
   "id": "f10d9e4a-7ada-49ae-bfe4-bb9697e61ab2",
   "metadata": {},
   "outputs": [],
   "source": [
    "arr = tfid.fit_transform(df['text']).toarray()"
   ]
  },
  {
   "cell_type": "code",
   "execution_count": 20,
   "id": "6a2b7af5-1adc-4eda-965e-09e18512ffca",
   "metadata": {},
   "outputs": [
    {
     "data": {
      "text/plain": [
       "array([[0.        , 0.        , 0.57735027, 0.57735027, 0.        ,\n",
       "        0.57735027],\n",
       "       [0.57735027, 0.        , 0.        , 0.57735027, 0.        ,\n",
       "        0.57735027],\n",
       "       [0.        , 0.57735027, 0.57735027, 0.        , 0.57735027,\n",
       "        0.        ],\n",
       "       [0.57735027, 0.57735027, 0.        , 0.        , 0.57735027,\n",
       "        0.        ]])"
      ]
     },
     "execution_count": 20,
     "metadata": {},
     "output_type": "execute_result"
    }
   ],
   "source": [
    "arr"
   ]
  },
  {
   "cell_type": "code",
   "execution_count": 16,
   "id": "830a4430-8d98-4b87-8ef3-b3ae87367e4a",
   "metadata": {},
   "outputs": [
    {
     "name": "stdout",
     "output_type": "stream",
     "text": [
      "[1.51082562 1.51082562 1.51082562 1.51082562 1.51082562 1.51082562]\n"
     ]
    }
   ],
   "source": [
    "print(tfid.idf_)"
   ]
  },
  {
   "cell_type": "code",
   "execution_count": null,
   "id": "e749e3fd-54f7-4b14-badd-6219e068106e",
   "metadata": {},
   "outputs": [],
   "source": []
  }
 ],
 "metadata": {
  "kernelspec": {
   "display_name": "Python 3 (ipykernel)",
   "language": "python",
   "name": "python3"
  },
  "language_info": {
   "codemirror_mode": {
    "name": "ipython",
    "version": 3
   },
   "file_extension": ".py",
   "mimetype": "text/x-python",
   "name": "python",
   "nbconvert_exporter": "python",
   "pygments_lexer": "ipython3",
   "version": "3.12.7"
  }
 },
 "nbformat": 4,
 "nbformat_minor": 5
}
